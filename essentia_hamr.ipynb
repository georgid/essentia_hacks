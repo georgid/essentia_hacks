{
 "metadata": {
  "name": "",
  "signature": "sha256:8ab900b2c94bdd562d28aef14ea9add754a13e40cd0b00ee7036699c738111bc"
 },
 "nbformat": 3,
 "nbformat_minor": 0,
 "worksheets": [
  {
   "cells": [
    {
     "cell_type": "code",
     "collapsed": false,
     "input": [
      "import essentia.standard\n",
      "from pylab import imshow, show\n",
      "\n",
      "\n",
      "mono_loader = essentia.standard.MonoLoader(filename = '/Users/joro/Downloads/audio_with_vocal.wav')\n",
      "audio = mono_loader()\n",
      "\n",
      "######### frame-level MFCCs extractor\n",
      "\n",
      "### init\n",
      "from essentia.standard import *\n",
      "window = Windowing(type = 'hann')\n",
      "spectrum = Spectrum() \n",
      "mfcc = MFCC()\n",
      "\n",
      "### loop in audio\n",
      "mfccs = []\n",
      "\n",
      "frame_size = 1024\n",
      "hop_size = 512\n",
      "for frame in FrameGenerator(audio, frameSize = frame_size, hopSize = hop_size):\n",
      "    window_current = window(frame)\n",
      "    spec_current = spectrum(window_current)\n",
      "    mfcc_bands, mfcc_coeffs = mfcc(spec_current)\n",
      "    mfccs.append(mfcc_coeffs)\n",
      "\n",
      "\n",
      "mfccs = essentia.array(mfccs).T\n",
      "\n",
      "# and plot\n",
      "imshow(mfccs[1:,:], aspect = 'auto', interpolation='none')\n",
      "show() \n",
      "\n",
      "\n",
      "## predominant melody extraction "
     ],
     "language": "python",
     "metadata": {},
     "outputs": [
      {
       "output_type": "stream",
       "stream": "stderr",
       "text": [
        "/usr/local/lib/python2.7/site-packages/matplotlib/image.py:676: UserWarning: The backend (<class 'matplotlib.backends.backend_macosx.RendererMac'>) does not support interpolation='none'. The image will be interpolated with 'nearest` mode.\n",
        "  \"mode.\" % renderer.__class__)\n"
       ]
      }
     ],
     "prompt_number": 12
    },
    {
     "cell_type": "code",
     "collapsed": false,
     "input": [],
     "language": "python",
     "metadata": {},
     "outputs": []
    }
   ],
   "metadata": {}
  }
 ]
}