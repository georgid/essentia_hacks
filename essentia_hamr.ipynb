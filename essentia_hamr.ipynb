{
 "metadata": {
  "name": "",
  "signature": "sha256:a823b11188a584b6358f7943d8bb4c8ad1f224848315cf7aeea17fff197cf7d8"
 },
 "nbformat": 3,
 "nbformat_minor": 0,
 "worksheets": [
  {
   "cells": [
    {
     "cell_type": "code",
     "collapsed": false,
     "input": [
      "import essentia.standard\n",
      "from pylab import imshow, show\n",
      "import matplotlib.pyplot as plt\n",
      "\n",
      "\n",
      "mono_loader = essentia.standard.MonoLoader(filename = 'audio_with_vocal.wav', sampleRate = 44100)\n",
      "audio_samples = mono_loader()"
     ],
     "language": "python",
     "metadata": {},
     "outputs": [],
     "prompt_number": 1
    },
    {
     "cell_type": "code",
     "collapsed": false,
     "input": [
      "######### frame-level MFCCs extractor\n",
      "\n",
      "### init\n",
      "from essentia.standard import *\n",
      "window = Windowing(type = 'hann')\n",
      "spectrum = Spectrum() \n",
      "mfcc = MFCC()\n",
      "\n",
      "### loop in audio\n",
      "mfccs = []\n",
      "\n",
      "frame_size = 1024\n",
      "hop_size = 512\n",
      "for frame in FrameGenerator(audio_samples, frameSize = frame_size, hopSize = hop_size):\n",
      "    window_current = window(frame)\n",
      "    spec_current = spectrum(window_current)\n",
      "    mfcc_bands, mfcc_coeffs = mfcc(spec_current)\n",
      "    mfccs.append(mfcc_coeffs)\n",
      "\n",
      "\n",
      "mfccs = essentia.array(mfccs).T\n",
      "\n",
      "# and plot\n",
      "imshow(mfccs[1:,:], aspect = 'auto', interpolation='none')\n",
      "show() \n",
      "\n",
      "\n"
     ],
     "language": "python",
     "metadata": {},
     "outputs": [
      {
       "output_type": "stream",
       "stream": "stderr",
       "text": [
        "/usr/local/lib/python2.7/site-packages/matplotlib/image.py:676: UserWarning: The backend (<class 'matplotlib.backends.backend_macosx.RendererMac'>) does not support interpolation='none'. The image will be interpolated with 'nearest` mode.\n",
        "  \"mode.\" % renderer.__class__)\n"
       ]
      }
     ],
     "prompt_number": 2
    },
    {
     "cell_type": "code",
     "collapsed": false,
     "input": [
      "## predominant melody extraction \n",
      "from essentia.standard import PredominantPitchMelodia\n",
      "\n",
      "pitchTracker = PredominantPitchMelodia(frameSize = frame_size, hopSize = hop_size, \n",
      "        voicingTolerance = 1.4,  guessUnvoiced=True)\n",
      "\n",
      "pitch, pitchConf = pitchTracker(audio_samples)\n",
      "plt.plot(pitch)\n",
      "show()"
     ],
     "language": "python",
     "metadata": {},
     "outputs": [],
     "prompt_number": 3
    },
    {
     "cell_type": "code",
     "collapsed": false,
     "input": [],
     "language": "python",
     "metadata": {},
     "outputs": []
    }
   ],
   "metadata": {}
  }
 ]
}